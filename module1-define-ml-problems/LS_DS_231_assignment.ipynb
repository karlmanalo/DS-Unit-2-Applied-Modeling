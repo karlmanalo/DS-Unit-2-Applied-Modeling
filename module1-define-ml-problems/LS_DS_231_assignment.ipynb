{
  "nbformat": 4,
  "nbformat_minor": 0,
  "metadata": {
    "kernelspec": {
      "display_name": "Python 3",
      "language": "python",
      "name": "python3"
    },
    "language_info": {
      "codemirror_mode": {
        "name": "ipython",
        "version": 3
      },
      "file_extension": ".py",
      "mimetype": "text/x-python",
      "name": "python",
      "nbconvert_exporter": "python",
      "pygments_lexer": "ipython3",
      "version": "3.7.6"
    },
    "colab": {
      "name": "LS_DS14_231_assignment_Manalo_Karl_200420.ipynb",
      "provenance": [],
      "collapsed_sections": [],
      "include_colab_link": true
    }
  },
  "cells": [
    {
      "cell_type": "markdown",
      "metadata": {
        "id": "view-in-github",
        "colab_type": "text"
      },
      "source": [
        "<a href=\"https://colab.research.google.com/github/karlmanalo/DS-Unit-2-Applied-Modeling/blob/master/module1-define-ml-problems/LS_DS_231_assignment.ipynb\" target=\"_parent\"><img src=\"https://colab.research.google.com/assets/colab-badge.svg\" alt=\"Open In Colab\"/></a>"
      ]
    },
    {
      "cell_type": "markdown",
      "metadata": {
        "colab_type": "text",
        "id": "nCc3XZEyG3XV"
      },
      "source": [
        "Lambda School Data Science\n",
        "\n",
        "*Unit 2, Sprint 3, Module 1*\n",
        "\n",
        "---\n",
        "\n",
        "\n",
        "# Define ML problems\n",
        "\n",
        "You will use your portfolio project dataset for all assignments this sprint.\n",
        "\n",
        "## Assignment\n",
        "\n",
        "Complete these tasks for your project, and document your decisions.\n",
        "\n",
        "- [ ] Choose your target. Which column in your tabular dataset will you predict?\n",
        "- [ ] Is your problem regression or classification?\n",
        "- [ ] How is your target distributed?\n",
        "    - Classification: How many classes? Are the classes imbalanced?\n",
        "    - Regression: Is the target right-skewed? If so, you may want to log transform the target.\n",
        "- [ ] Choose your evaluation metric(s).\n",
        "    - Classification: Is your majority class frequency >= 50% and < 70% ? If so, you can just use accuracy if you want. Outside that range, accuracy could be misleading. What evaluation metric will you choose, in addition to or instead of accuracy?\n",
        "    - Regression: Will you use mean absolute error, root mean squared error, R^2, or other regression metrics?\n",
        "- [ ] Choose which observations you will use to train, validate, and test your model.\n",
        "    - Are some observations outliers? Will you exclude them?\n",
        "    - Will you do a random split or a time-based split?\n",
        "- [ ] Begin to clean and explore your data.\n",
        "- [ ] Begin to choose which features, if any, to exclude. Would some features \"leak\" future information?\n",
        "\n",
        "If you haven't found a dataset yet, do that today. [Review requirements for your portfolio project](https://lambdaschool.github.io/ds/unit2) and choose your dataset.\n",
        "\n",
        "Some students worry, ***what if my model isn't “good”?*** Then, [produce a detailed tribute to your wrongness. That is science!](https://twitter.com/nathanwpyle/status/1176860147223867393)"
      ]
    },
    {
      "cell_type": "markdown",
      "metadata": {
        "id": "voO3Zy2v2UAw",
        "colab_type": "text"
      },
      "source": [
        "- [ ] Choose your target. Which column in your tabular dataset will you predict?"
      ]
    },
    {
      "cell_type": "markdown",
      "metadata": {
        "id": "jeiU_YYm2ovK",
        "colab_type": "text"
      },
      "source": [
        "Whether or not an athlete was drafted in the NFL. I will create a new column 'Drafted', based on whether or not an athlete has a value under 'Pick'. I may further subset the drafted players to see what round they were drafted in."
      ]
    },
    {
      "cell_type": "markdown",
      "metadata": {
        "id": "C9YLhv9Y2WnY",
        "colab_type": "text"
      },
      "source": [
        "- [ ] Is your problem regression or classification?"
      ]
    },
    {
      "cell_type": "markdown",
      "metadata": {
        "id": "n7ej1_tf31vf",
        "colab_type": "text"
      },
      "source": [
        "Classification."
      ]
    },
    {
      "cell_type": "markdown",
      "metadata": {
        "id": "rc2x9PO42Zar",
        "colab_type": "text"
      },
      "source": [
        "- [ ] How is your target distributed?\n",
        "    - Classification: How many classes? Are the classes imbalanced?\n",
        "    - Regression: Is the target right-skewed? If so, you may want to log transform the target."
      ]
    },
    {
      "cell_type": "markdown",
      "metadata": {
        "id": "70RdHM_J4Mla",
        "colab_type": "text"
      },
      "source": [
        "Drafted/not drafted is 2 classes. Further subsetting drafted players would create 7 classes (drafted in rounds 1-7).\n"
      ]
    },
    {
      "cell_type": "markdown",
      "metadata": {
        "id": "xhPBOZai2b7i",
        "colab_type": "text"
      },
      "source": [
        "\n",
        "- [ ] Choose your evaluation metric(s).\n",
        "    - Classification: Is your majority class frequency >= 50% and < 70% ? If so, you can just use accuracy if you want. Outside that range, accuracy could be misleading. What evaluation metric will you choose, in addition to or instead of accuracy?\n",
        "    - Regression: Will you use mean absolute error, root mean squared error, R^2, or other regression metrics?"
      ]
    },
    {
      "cell_type": "markdown",
      "metadata": {
        "id": "y2DppSG54-0m",
        "colab_type": "text"
      },
      "source": [
        "About 60% of athletes that perform at the NFL Combine in the given data set were drafted, so I would likely use accuracy as my evaluation metric."
      ]
    },
    {
      "cell_type": "markdown",
      "metadata": {
        "id": "3iB7JLgu2eV7",
        "colab_type": "text"
      },
      "source": [
        "- [ ] Choose which observations you will use to train, validate, and test your model.\n",
        "    - Are some observations outliers? Will you exclude them?\n",
        "    - Will you do a random split or a time-based split?"
      ]
    },
    {
      "cell_type": "markdown",
      "metadata": {
        "id": "sHo1xIrR5MBI",
        "colab_type": "text"
      },
      "source": [
        "I will perform a time-based split. It is likely that NFL executives/front offices have adapted and evolved their draft strategies every year."
      ]
    },
    {
      "cell_type": "markdown",
      "metadata": {
        "id": "wpwf5X2G2iNb",
        "colab_type": "text"
      },
      "source": [
        "- [ ] Begin to clean and explore your data."
      ]
    },
    {
      "cell_type": "markdown",
      "metadata": {
        "id": "YZzhlEHs5ezm",
        "colab_type": "text"
      },
      "source": [
        "Done."
      ]
    },
    {
      "cell_type": "markdown",
      "metadata": {
        "id": "vmIERAIq2lpw",
        "colab_type": "text"
      },
      "source": [
        "- [ ] Begin to choose which features, if any, to exclude. Would some features \"leak\" future information?"
      ]
    },
    {
      "cell_type": "markdown",
      "metadata": {
        "id": "w0kWxKtr5gyI",
        "colab_type": "text"
      },
      "source": [
        "For what I'm thinking will be my initial classification, I will exclude all columns that directly imply that a player was drafted. This includes 'AV','Team', 'Round', 'Pick', and 'Drafted'."
      ]
    }
  ]
}